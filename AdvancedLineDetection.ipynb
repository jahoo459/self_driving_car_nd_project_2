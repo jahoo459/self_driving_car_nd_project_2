{
 "cells": [
  {
   "cell_type": "code",
   "execution_count": 2,
   "metadata": {},
   "outputs": [],
   "source": [
    "from IPython.display import Image"
   ]
  },
  {
   "cell_type": "markdown",
   "metadata": {
    "collapsed": true
   },
   "source": [
    "**Advanced Lane Finding Project**\n",
    "\n",
    "The goals / steps of this project are the following:\n",
    "\n",
    "* Compute the camera calibration matrix and distortion coefficients given a set of chessboard images.\n",
    "* Apply a distortion correction to raw images.\n",
    "* Use color transforms, gradients, etc., to create a thresholded binary image.\n",
    "* Apply a perspective transform to rectify binary image (\"birds-eye view\").\n",
    "* Detect lane pixels and fit to find the lane boundary.\n",
    "* Determine the curvature of the lane and vehicle position with respect to center.\n",
    "* Warp the detected lane boundaries back onto the original image.\n",
    "* Output visual display of the lane boundaries and numerical estimation of lane curvature and vehicle position.\n"
   ]
  },
  {
   "cell_type": "markdown",
   "metadata": {},
   "source": [
    "### Camera Calibration\n",
    "\n",
    "#### In order to get reliable results it is needed to properly calibrate the camera.\n",
    "\n",
    "The code responsible for this part is in functions.py, line16 (calibrateCamera().\n",
    "\n",
    "I start by preparing \"object points\", which will be the (x, y, z) coordinates of the chessboard corners in the world. Here I am assuming the chessboard is fixed on the (x, y) plane at z=0, such that the object points are the same for each calibration image.  Thus, `objp` is just a replicated array of coordinates, and `objpoints` will be appended with a copy of it every time I successfully detect all chessboard corners in a test image.  `imgpoints` will be appended with the (x, y) pixel position of each of the corners in the image plane with each successful chessboard detection.  \n",
    "\n",
    "I then used the output `objpoints` and `imgpoints` to compute the camera calibration and distortion coefficients using the `cv2.calibrateCamera()` function.  \n",
    "\n",
    "Before undistortion:\n",
    "<img src=\"./doc/cam_calib_1.png\">\n",
    "\n",
    "After undistortion:\n",
    "<img src=\"./doc/cam_calib_2.png\">\n",
    "\n",
    "\n",
    "Calibration of the camera is done only once when the program starts. "
   ]
  },
  {
   "cell_type": "markdown",
   "metadata": {},
   "source": [
    "## Pipeline description\n",
    "\n",
    "The pipeline function can be found in AdvancedLineDetection.py, line 61.\n",
    "\n",
    "It consists of several steps leading to the final result. All the steps are described below.\n"
   ]
  },
  {
   "cell_type": "markdown",
   "metadata": {},
   "source": [
    "### 1. In the first step the image is undistored using coefficients calculated in calibrateCamera()\n",
    "\n",
    "This operation is porformed in AdvancedLineDetection.py in line 64.\n",
    "\n",
    "Image before undistortion:\n",
    "<img src=\"./doc/raw_img.png\">\n",
    "Image after undistortion:\n",
    "<img src=\"./doc/undistored_img.png\">"
   ]
  },
  {
   "cell_type": "markdown",
   "metadata": {},
   "source": [
    "### 2. In the second step I do apply gradient and color thresholding in order to extract lines on the image. \n",
    "\n",
    "#### This is done in the functions.py, line 47, apply_threshold_operations()\n",
    "\n",
    "Gradient thresholding is done as follows\n",
    "1. Take the undistorted raw image and convert it to grayscale.\n",
    "2. Apply cv2.Sobel() function to calculate the derivative in x and take the absolute value of it. Later scale the values to the range (0, 255)\n",
    "3. Apply the threshold (I used low_thr=20 and high_thr = 100) and create binary image containing all the pixels that values lie within the threshold.\n",
    "\n",
    "Color thresholding is done as follows:\n",
    "\n"
   ]
  }
 ],
 "metadata": {
  "kernelspec": {
   "display_name": "Python 3",
   "language": "python",
   "name": "python3"
  },
  "language_info": {
   "codemirror_mode": {
    "name": "ipython",
    "version": 3
   },
   "file_extension": ".py",
   "mimetype": "text/x-python",
   "name": "python",
   "nbconvert_exporter": "python",
   "pygments_lexer": "ipython3",
   "version": "3.6.6"
  }
 },
 "nbformat": 4,
 "nbformat_minor": 2
}
